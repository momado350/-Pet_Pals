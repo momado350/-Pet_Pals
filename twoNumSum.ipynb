{
  "nbformat": 4,
  "nbformat_minor": 0,
  "metadata": {
    "colab": {
      "provenance": [],
      "authorship_tag": "ABX9TyPUxdlY4ij0FAzqNoqZ+1AB",
      "include_colab_link": true
    },
    "kernelspec": {
      "name": "python3",
      "display_name": "Python 3"
    },
    "language_info": {
      "name": "python"
    }
  },
  "cells": [
    {
      "cell_type": "markdown",
      "metadata": {
        "id": "view-in-github",
        "colab_type": "text"
      },
      "source": [
        "<a href=\"https://colab.research.google.com/github/momado350/-Pet_Pals/blob/master/twoNumSum.ipynb\" target=\"_parent\"><img src=\"https://colab.research.google.com/assets/colab-badge.svg\" alt=\"Open In Colab\"/></a>"
      ]
    },
    {
      "cell_type": "code",
      "execution_count": 1,
      "metadata": {
        "colab": {
          "base_uri": "https://localhost:8080/"
        },
        "id": "O4DBuNaUm-eU",
        "outputId": "e717e482-9e9f-4b72-88a0-a6f779669816"
      },
      "outputs": [
        {
          "output_type": "stream",
          "name": "stdout",
          "text": [
            "hello\n"
          ]
        }
      ],
      "source": [
        "print(\"hello\")"
      ]
    },
    {
      "cell_type": "markdown",
      "source": [
        "hash table\n"
      ],
      "metadata": {
        "id": "fAPaoW0dt96P"
      }
    },
    {
      "cell_type": "code",
      "source": [
        "# two num sum\n",
        "\n",
        "def twoNumSum(nums, target): \n",
        "  # create empty has map\n",
        "  hashMap = {} #                                \n",
        "  # iterate over nums list\n",
        "  for i, n in enumerate(nums):\n",
        "    diff = target - n\n",
        "    if diff in hashMap:\n",
        "      return [hashMap[diff], i]\n",
        "    hashMap[n] =i\n",
        "  return \n",
        "\n",
        "res = twoNumSum([1,2,3], 4)\n",
        "print(res)"
      ],
      "metadata": {
        "colab": {
          "base_uri": "https://localhost:8080/"
        },
        "id": "-ambxW08nGL8",
        "outputId": "670da06a-cc31-408a-a9f5-5cff8dc10b87"
      },
      "execution_count": 10,
      "outputs": [
        {
          "output_type": "stream",
          "name": "stdout",
          "text": [
            "[0, 2]\n"
          ]
        }
      ]
    }
  ]
}